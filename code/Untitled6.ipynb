{
 "cells": [
  {
   "cell_type": "code",
   "execution_count": 1,
   "metadata": {},
   "outputs": [],
   "source": [
    "import cv2\n",
    "import os\n",
    "from random import shuffle\n",
    "from tqdm import tqdm\n",
    "import numpy as np\n",
    "\n"
   ]
  },
  {
   "cell_type": "code",
   "execution_count": 2,
   "metadata": {},
   "outputs": [],
   "source": [
    "#pip install tflearn\n",
    "TRAIN_DIR=\"C:/Users/Lab009/Desktop/dataset/train\"\n",
    "TEST_DIR =\"C:/Users/Lab009/Desktop/dataset/test\"\n",
    "\n",
    "\n",
    "\n",
    "def label_img(img):\n",
    "    word_label = img.split('.')[0]\n",
    "    # conversion to one-hot array [cat,dog]\n",
    "    #                            [much cat, no dog]\n",
    "    if word_label == 'cat': return [0,1]\n",
    "    #                             [no cat, very dog]\n",
    "    elif word_label == 'dog': return [1,0]\n"
   ]
  },
  {
   "cell_type": "code",
   "execution_count": 3,
   "metadata": {},
   "outputs": [],
   "source": [
    "def create_train_data():\n",
    "    training_data = []\n",
    "    for img in tqdm(os.listdir(TRAIN_DIR)):\n",
    "        label = label_img(img)\n",
    "        path = os.path.join(TRAIN_DIR,img)\n",
    "        img = cv2.imread(path,cv2.IMREAD_GRAYSCALE)\n",
    "        img = cv2.resize(img, (50,50))\n",
    "        training_data.append([np.array(img),np.array(label)])\n",
    "        \n",
    "    shuffle(training_data)\n",
    "    #np.save('train_data.npy', training_data)\n",
    "    return training_data\n"
   ]
  },
  {
   "cell_type": "code",
   "execution_count": 4,
   "metadata": {},
   "outputs": [
    {
     "name": "stderr",
     "output_type": "stream",
     "text": [
      "100%|██████████| 25000/25000 [00:50<00:00, 495.16it/s]\n"
     ]
    }
   ],
   "source": [
    "train_data = create_train_data()"
   ]
  },
  {
   "cell_type": "code",
   "execution_count": 5,
   "metadata": {},
   "outputs": [
    {
     "name": "stdout",
     "output_type": "stream",
     "text": [
      "curses is not supported on this machine (please install/reinstall curses for an optimal experience)\n",
      "WARNING:tensorflow:From C:\\Users\\Lab009\\Anaconda3\\envs\\myenk\\lib\\site-packages\\tensorflow\\python\\framework\\op_def_library.py:263: colocate_with (from tensorflow.python.framework.ops) is deprecated and will be removed in a future version.\n",
      "Instructions for updating:\n",
      "Colocations handled automatically by placer.\n"
     ]
    }
   ],
   "source": [
    "#conda install tflearn or pip install tflearn\n",
    "import tensorflow as tf\n",
    "import tflearn\n",
    "from tflearn.layers.conv import conv_2d,max_pool_2d\n",
    "from tflearn.layers.core import input_data,fully_connected,dropout\n",
    "from tflearn.layers.estimator import regression\n"
   ]
  },
  {
   "cell_type": "code",
   "execution_count": 6,
   "metadata": {},
   "outputs": [
    {
     "name": "stdout",
     "output_type": "stream",
     "text": [
      "WARNING:tensorflow:From C:\\Users\\Lab009\\Anaconda3\\envs\\myenk\\lib\\site-packages\\tflearn\\initializations.py:119: UniformUnitScaling.__init__ (from tensorflow.python.ops.init_ops) is deprecated and will be removed in a future version.\n",
      "Instructions for updating:\n",
      "Use tf.initializers.variance_scaling instead with distribution=uniform to get equivalent behavior.\n",
      "WARNING:tensorflow:From C:\\Users\\Lab009\\Anaconda3\\envs\\myenk\\lib\\site-packages\\tflearn\\layers\\core.py:239: calling dropout (from tensorflow.python.ops.nn_ops) with keep_prob is deprecated and will be removed in a future version.\n",
      "Instructions for updating:\n",
      "Please use `rate` instead of `keep_prob`. Rate should be set to `rate = 1 - keep_prob`.\n"
     ]
    }
   ],
   "source": [
    "model=input_data(shape=[None,50,50,1], name='input')\n",
    "\n",
    "\n",
    "# In[8]:\n",
    "\n",
    "\n",
    "#first convolution Layer\n",
    "model=conv_2d(model,46,5,activation='relu')\n",
    "model=max_pool_2d(model,5)\n",
    "\n",
    "#second Convolution Layer\n",
    "model=conv_2d(model,42,5,activation='relu')\n",
    "model=max_pool_2d(model,5)\n",
    "\n",
    "#third Convolution Layer\n",
    "model=conv_2d(model,38,5,activation='relu')\n",
    "model=max_pool_2d(model,5)\n",
    "\n",
    "#fully Connected Layer\n",
    "model=fully_connected(model,1024,activation='relu')\n",
    "\n",
    "model=dropout(model,0.7)\n",
    "model=fully_connected(model,2,activation='softmax')"
   ]
  },
  {
   "cell_type": "code",
   "execution_count": 7,
   "metadata": {},
   "outputs": [
    {
     "name": "stdout",
     "output_type": "stream",
     "text": [
      "WARNING:tensorflow:From C:\\Users\\Lab009\\Anaconda3\\envs\\myenk\\lib\\site-packages\\tflearn\\objectives.py:66: calling reduce_sum_v1 (from tensorflow.python.ops.math_ops) with keep_dims is deprecated and will be removed in a future version.\n",
      "Instructions for updating:\n",
      "keep_dims is deprecated, use keepdims instead\n"
     ]
    }
   ],
   "source": [
    "model=regression(model,\n",
    "                optimizer='adam',\n",
    "                loss='categorical_crossentropy',\n",
    "                learning_rate=0.003,\n",
    "                name='output')\n",
    "\n"
   ]
  },
  {
   "cell_type": "code",
   "execution_count": 8,
   "metadata": {},
   "outputs": [
    {
     "name": "stdout",
     "output_type": "stream",
     "text": [
      "WARNING:tensorflow:From C:\\Users\\Lab009\\Anaconda3\\envs\\myenk\\lib\\site-packages\\tensorflow\\python\\ops\\math_ops.py:3066: to_int32 (from tensorflow.python.ops.math_ops) is deprecated and will be removed in a future version.\n",
      "Instructions for updating:\n",
      "Use tf.cast instead.\n"
     ]
    }
   ],
   "source": [
    "cnnmodel=tflearn.DNN(model)"
   ]
  },
  {
   "cell_type": "code",
   "execution_count": 9,
   "metadata": {},
   "outputs": [],
   "source": [
    "train=train_data[:-500]  #24500 for training\n",
    "test=train_data[-500:]   #500 for testing"
   ]
  },
  {
   "cell_type": "code",
   "execution_count": 10,
   "metadata": {},
   "outputs": [],
   "source": [
    "X=np.array([i[0] for i in train]).reshape(-1,50,50,1)\n",
    "Y=[i[1] for i in train] \n"
   ]
  },
  {
   "cell_type": "code",
   "execution_count": 11,
   "metadata": {},
   "outputs": [],
   "source": [
    "\n",
    "test_x=np.array([i[0] for i in test]).reshape(-1,50,50,1)\n",
    "test_y=[i[1] for i in test] \n"
   ]
  },
  {
   "cell_type": "code",
   "execution_count": 12,
   "metadata": {},
   "outputs": [
    {
     "name": "stdout",
     "output_type": "stream",
     "text": [
      "Training Step: 3829  | total loss: 11.93638 | time: 89.057s\n",
      "| Adam | epoch: 010 | loss: 11.93638 - acc: 0.4816 -- iter: 24448/24500\n",
      "Training Step: 3830  | total loss: 11.93001 | time: 90.307s\n",
      "| Adam | epoch: 010 | loss: 11.93001 - acc: 0.4819 | val_loss: 11.05241 - val_acc: 0.5200 -- iter: 24500/24500\n",
      "--\n"
     ]
    }
   ],
   "source": [
    "cnnmodel.fit({'input':X},{'output':Y}, n_epoch=10,\n",
    "            validation_set=({'input':test_x},{'output':test_y}),\n",
    "            show_metric=True)"
   ]
  },
  {
   "cell_type": "code",
   "execution_count": null,
   "metadata": {},
   "outputs": [],
   "source": []
  }
 ],
 "metadata": {
  "kernelspec": {
   "display_name": "Python 3",
   "language": "python",
   "name": "python3"
  },
  "language_info": {
   "codemirror_mode": {
    "name": "ipython",
    "version": 3
   },
   "file_extension": ".py",
   "mimetype": "text/x-python",
   "name": "python",
   "nbconvert_exporter": "python",
   "pygments_lexer": "ipython3",
   "version": "3.7.3"
  }
 },
 "nbformat": 4,
 "nbformat_minor": 2
}
